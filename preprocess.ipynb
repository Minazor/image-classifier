{
 "cells": [
  {
   "cell_type": "code",
   "execution_count": 32,
   "metadata": {},
   "outputs": [],
   "source": [
    "import os\n",
    "import logging\n",
    "from tqdm import tqdm\n",
    "from PIL import Image"
   ]
  },
  {
   "cell_type": "code",
   "execution_count": 33,
   "metadata": {},
   "outputs": [],
   "source": [
    "#logging settings\n",
    "logging.basicConfig(\n",
    "    level=logging.INFO, format=\"%(asctime)s - %(levelname)s - %(message)s\"\n",
    ")"
   ]
  },
  {
   "cell_type": "code",
   "execution_count": 34,
   "metadata": {},
   "outputs": [],
   "source": [
    "def check_is_dir(path):\n",
    "    if not os.path.isdir(path):\n",
    "        raise ValueError(f\"Provided path: {path} is not a directory.\")\n",
    "    return True"
   ]
  },
  {
   "cell_type": "code",
   "execution_count": 35,
   "metadata": {},
   "outputs": [],
   "source": [
    "def filter_images(list_of_files):\n",
    "    valid_extensions = {'.jpg', '.jpeg', '.png','.webp'}\n",
    "    return [file for file in list_of_files if any(file.endswith(ext) for ext in valid_extensions)]"
   ]
  },
  {
   "cell_type": "code",
   "execution_count": 36,
   "metadata": {},
   "outputs": [],
   "source": [
    "def load_image(image_path):\n",
    "    image=Image.open(image_path).convert('RGB')\n",
    "    return image"
   ]
  },
  {
   "cell_type": "code",
   "execution_count": 37,
   "metadata": {},
   "outputs": [],
   "source": [
    "def read_images_from_dir(dir_path):\n",
    "    check_is_dir(dir_path)\n",
    "    files = os.listdir(dir_path)\n",
    "    image_files = filter_images(files)\n",
    "    image_paths = [os.path.join(dir_path, file) for file in image_files]\n",
    "    images = [load_image(image_path) for image_path in tqdm(image_paths)]\n",
    "    logging.info(f\"Load {len(images)} images from {dir_path}\")\n",
    "    return images"
   ]
  },
  {
   "cell_type": "code",
   "execution_count": 38,
   "metadata": {},
   "outputs": [
    {
     "name": "stderr",
     "output_type": "stream",
     "text": [
      "100%|██████████| 229/229 [00:02<00:00, 83.12it/s] \n",
      "2024-06-10 14:51:29,499 - INFO - Load 229 images from raw_images/bird\n"
     ]
    }
   ],
   "source": [
    "loaded_images=read_images_from_dir(\"raw_images/bird\")"
   ]
  },
  {
   "cell_type": "code",
   "execution_count": 39,
   "metadata": {},
   "outputs": [],
   "source": [
    "def max_resolution_rescale(image, max_width, max_height):\n",
    "    width, height = image.size\n",
    "    if width > max_width or height > max_height:\n",
    "        ratio = min(max_width/width, max_height/height)\n",
    "        new_width = int(width * ratio)\n",
    "        new_height = int(height*ratio)\n",
    "        image = image.resize((new_width,new_height), Image.LANCZOS)\n",
    "    return image"
   ]
  },
  {
   "cell_type": "code",
   "execution_count": 40,
   "metadata": {},
   "outputs": [
    {
     "name": "stderr",
     "output_type": "stream",
     "text": [
      "100%|██████████| 229/229 [00:02<00:00, 78.33it/s]\n"
     ]
    }
   ],
   "source": [
    "max_size = 1024\n",
    "\n",
    "resized_images = list(map(lambda x: max_resolution_rescale(x,max_size,max_size), tqdm(loaded_images)))"
   ]
  },
  {
   "cell_type": "code",
   "execution_count": 41,
   "metadata": {},
   "outputs": [],
   "source": [
    "def min_resolution_filter(image,min_width, min_height):\n",
    "    width, height = image.size\n",
    "    return width>= min_width and height>= min_height"
   ]
  },
  {
   "cell_type": "code",
   "execution_count": 42,
   "metadata": {},
   "outputs": [
    {
     "name": "stderr",
     "output_type": "stream",
     "text": [
      "100%|██████████| 229/229 [00:00<00:00, 233.97it/s]\n"
     ]
    }
   ],
   "source": [
    "min_size = 224\n",
    "filter_images = list(filter(lambda x: max_resolution_rescale(x,min_size,min_size), tqdm(resized_images)))"
   ]
  }
 ],
 "metadata": {
  "kernelspec": {
   "display_name": "Python 3",
   "language": "python",
   "name": "python3"
  },
  "language_info": {
   "codemirror_mode": {
    "name": "ipython",
    "version": 3
   },
   "file_extension": ".py",
   "mimetype": "text/x-python",
   "name": "python",
   "nbconvert_exporter": "python",
   "pygments_lexer": "ipython3",
   "version": "3.10.0"
  }
 },
 "nbformat": 4,
 "nbformat_minor": 2
}
